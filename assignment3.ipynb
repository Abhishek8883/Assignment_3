{
 "cells": [
  {
   "cell_type": "markdown",
   "id": "fabulous-wound",
   "metadata": {},
   "source": [
    "# Registration Id : SIRSS1152\n",
    "# Name : Abhishek Pandey\n",
    "# College Name : Technocrats Institute of Technology(Excellence),Bhopal\n",
    "# Subject : Python\n"
   ]
  },
  {
   "cell_type": "markdown",
   "id": "desperate-struggle",
   "metadata": {},
   "source": [
    "### Q1. Write a function to return nth term of Fibonacci sequence."
   ]
  },
  {
   "cell_type": "code",
   "execution_count": 3,
   "id": "turned-reduction",
   "metadata": {},
   "outputs": [
    {
     "name": "stdout",
     "output_type": "stream",
     "text": [
      "Enter the number of term  10\n",
      "Value of entered term is : 21\n"
     ]
    }
   ],
   "source": [
    "def Fibonacci(x):\n",
    "    first = 1\n",
    "    second = 0\n",
    "    if x<= 2:\n",
    "        return 1\n",
    "    for i in range(2, x):\n",
    "        third = first + second\n",
    "        first = second\n",
    "        second = third\n",
    "    return third\n",
    "\n",
    "inp = int(input(\"Enter the number of term  \"))\n",
    "print(f\"Value of entered term is : {Fibonacci(inp)}\")"
   ]
  },
  {
   "cell_type": "markdown",
   "id": "thousand-surname",
   "metadata": {},
   "source": [
    "### Q2. Write a function to find out GCD of two numbers using EUCLID'S algorithm."
   ]
  },
  {
   "cell_type": "code",
   "execution_count": 4,
   "id": "spread-louisiana",
   "metadata": {},
   "outputs": [
    {
     "name": "stdout",
     "output_type": "stream",
     "text": [
      "Enter the First Number:5\n",
      " Enter the Second Number:10\n",
      "GCD of the 5 and 10 is : 10\n"
     ]
    }
   ],
   "source": [
    "num = int(input('Enter the First Number:'))\n",
    "num1 = int(input(\" Enter the Second Number:\"))\n",
    "\n",
    "\n",
    "def GCD(n, m):\n",
    "    if m == 0:\n",
    "        return n\n",
    "    else :\n",
    "        return GCD(m, n // m)\n",
    "    \n",
    "print(f\"GCD of the {num} and {num1} is : {GCD(num, num1)}\")\n"
   ]
  },
  {
   "cell_type": "markdown",
   "id": "excited-mistake",
   "metadata": {},
   "source": [
    "### Q3. Write a function to find LCM of two number in most optimizers way.¶"
   ]
  },
  {
   "cell_type": "code",
   "execution_count": 12,
   "id": "false-petite",
   "metadata": {},
   "outputs": [
    {
     "name": "stdout",
     "output_type": "stream",
     "text": [
      "Enter the first number :5\n",
      "Enter the second number :10\n",
      "LCM of 5 and 10 is : 10\n"
     ]
    }
   ],
   "source": [
    "def lcm(a, b):  \n",
    "    if a > b:  \n",
    "        greater = a  \n",
    "    else:  \n",
    "        greater = b  \n",
    "    while True:  \n",
    "        if((greater % a == 0) and (greater % b == 0)):  \n",
    "            lcm = greater  \n",
    "            break  \n",
    "        greater += 1  \n",
    "    return lcm  \n",
    "\n",
    "inp = int(input(\"Enter the first number :\"))\n",
    "inp1 = int(input(\"Enter the second number :\"))\n",
    "print(f\"LCM of {inp} and {inp1} is : {lcm(inp,inp1)}\")"
   ]
  },
  {
   "cell_type": "code",
   "execution_count": null,
   "id": "driven-console",
   "metadata": {},
   "outputs": [],
   "source": []
  }
 ],
 "metadata": {
  "kernelspec": {
   "display_name": "Python 3",
   "language": "python",
   "name": "python3"
  },
  "language_info": {
   "codemirror_mode": {
    "name": "ipython",
    "version": 3
   },
   "file_extension": ".py",
   "mimetype": "text/x-python",
   "name": "python",
   "nbconvert_exporter": "python",
   "pygments_lexer": "ipython3",
   "version": "3.9.0"
  }
 },
 "nbformat": 4,
 "nbformat_minor": 5
}
